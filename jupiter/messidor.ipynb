{
 "cells": [
  {
   "cell_type": "code",
   "execution_count": 14,
   "metadata": {},
   "outputs": [],
   "source": [
    "import os\n",
    "import pyodbc\n",
    "import os.path as osp\n",
    "from math import ceil\n",
    "import scipy.io\n",
    "\n",
    "import torch\n",
    "import torch.nn.functional as F\n",
    "from torch_geometric.datasets import TUDataset\n",
    "import torch_geometric.transforms as T\n",
    "from torch_geometric.data import DenseDataLoader\n",
    "from torch_geometric.nn import DenseSAGEConv, dense_diff_pool\n"
   ]
  },
  {
   "cell_type": "code",
   "execution_count": 15,
   "metadata": {},
   "outputs": [
    {
     "data": {
      "text/plain": [
       "'C:\\\\Users\\\\ivank\\\\UJ\\\\Computer Vision\\\\Final Project\\\\MIL_wiht_GNN'"
      ]
     },
     "execution_count": 15,
     "metadata": {},
     "output_type": "execute_result"
    }
   ],
   "source": [
    "os.getcwd()"
   ]
  },
  {
   "cell_type": "code",
   "execution_count": 16,
   "metadata": {},
   "outputs": [
    {
     "name": "stdout",
     "output_type": "stream",
     "text": [
      "C:\\Users\\ivank\\UJ\\Computer Vision\\Final Project\\MIL_wiht_GNN\\datasets\\messidor\\messidor.accdb\n"
     ]
    }
   ],
   "source": [
    "\n",
    "\n",
    "path = osp.join(os.getcwd(), 'datasets', 'messidor', 'messidor.accdb')\n",
    "print(path)\n",
    "\n",
    "\n",
    "mat = scipy.io.loadmat(r'C:\\Users\\ivank\\UJ\\Computer Vision\\Final Project\\MIL_wiht_GNN\\datasets\\messidor\\messidor.mat')"
   ]
  },
  {
   "cell_type": "code",
   "execution_count": 56,
   "metadata": {},
   "outputs": [
    {
     "data": {
      "text/plain": [
       "MatlabObject([[(array([[8.43868330e-02, 2.63656024e-03, 1.03941315e-03, ...,\n",
       "        3.02352257e+01, 6.19658422e+00, 3.02352257e+01],\n",
       "       [8.61445367e-02, 2.16333149e-03, 8.70402902e-04, ...,\n",
       "        5.44189186e+01, 2.40879803e+01, 5.44189186e+01],\n",
       "       [8.33727717e-02, 4.00554342e-03, 1.47883990e-03, ...,\n",
       "        1.54660254e+01, 2.44681001e+00, 1.54660254e+01],\n",
       "       ...,\n",
       "       [7.68673122e-02, 2.84637231e-03, 1.66356342e-03, ...,\n",
       "        5.93076744e+01, 3.15143013e+01, 5.93076744e+01],\n",
       "       [8.32163244e-02, 2.70901388e-03, 1.40410860e-03, ...,\n",
       "        3.00772343e+01, 7.11697626e+00, 3.00772343e+01],\n",
       "       [8.24913755e-02, 2.78532412e-03, 1.48041884e-03, ...,\n",
       "        6.46823883e+01, 3.40899773e+01, 6.46823883e+01]]), array([[array(['negative', 'positive'], dtype='<U8'),\n",
       "        array([[0.45693005, 0.54306995]]),\n",
       "        array([], shape=(0, 0), dtype=uint8),\n",
       "        array(['crisp'], dtype='<U5')],\n",
       "       [array(['millab '], dtype='<U7'), array([[1]], dtype=uint8),\n",
       "        array([[0]], dtype=uint8),\n",
       "        array([], shape=(1, 0), dtype=float64)]], dtype=object), array([[2],\n",
       "       [2],\n",
       "       [2],\n",
       "       ...,\n",
       "       [2],\n",
       "       [2],\n",
       "       [2]], dtype=uint8), array(['crisp'], dtype='<U5'), array([], shape=(0, 0), dtype=uint8), array([], shape=(0, 0), dtype=uint8), array([], shape=(0, 0), dtype=object), array([[0.45693005, 0.54306995]]), array([], shape=(0, 0), dtype=uint8), array([[12352]], dtype=uint16), array([[687]], dtype=uint16), array([[(array([[    1],\n",
       "       [    2],\n",
       "       [    3],\n",
       "       ...,\n",
       "       [12350],\n",
       "       [12351],\n",
       "       [12352]], dtype=uint16), array([[   1],\n",
       "       [   1],\n",
       "       [   1],\n",
       "       ...,\n",
       "       [1200],\n",
       "       [1200],\n",
       "       [1200]], dtype=uint16))]], dtype=[('ident', 'O'), ('milbag', 'O')]), array([[array([[(array(['Pattern Recognition Tools'], dtype='<U25'), array(['5.0.1'], dtype='<U5'), array([], dtype='<U1'), array(['23-Jul-2013'], dtype='<U11'))]],\n",
       "      dtype=[('Name', 'O'), ('Version', 'O'), ('Release', 'O'), ('Date', 'O')]),\n",
       "        array(['15-Dec-2014 11:28:29'], dtype='<U20')]], dtype=object), array(['Messidor retinopathy'], dtype='<U20'), array([[(array([[(array([[(array(['presence'], dtype='<U8'),)]],\n",
       "      dtype=[('combinerule', 'O')]),)]], dtype=[('mil', 'O')]),)]],\n",
       "      dtype=[('user', 'O')]))]],\n",
       "             dtype=[('data', 'O'), ('lablist', 'O'), ('nlab', 'O'), ('labtype', 'O'), ('targets', 'O'), ('featlab', 'O'), ('featdom', 'O'), ('prior', 'O'), ('cost', 'O'), ('objsize', 'O'), ('featsize', 'O'), ('ident', 'O'), ('version', 'O'), ('name', 'O'), ('user', 'O')])"
      ]
     },
     "execution_count": 56,
     "metadata": {},
     "output_type": "execute_result"
    }
   ],
   "source": [
    "mat['x']\n"
   ]
  },
  {
   "cell_type": "code",
   "execution_count": 68,
   "metadata": {},
   "outputs": [
    {
     "ename": "AttributeError",
     "evalue": "'MatlabObject' object has no attribute 'items'",
     "output_type": "error",
     "traceback": [
      "\u001b[1;31m---------------------------------------------------------------------------\u001b[0m",
      "\u001b[1;31mAttributeError\u001b[0m                            Traceback (most recent call last)",
      "\u001b[1;32m<ipython-input-68-6985abe145c8>\u001b[0m in \u001b[0;36m<module>\u001b[1;34m\u001b[0m\n\u001b[1;32m----> 1\u001b[1;33m \u001b[0mmat\u001b[0m\u001b[1;33m[\u001b[0m\u001b[1;34m'x'\u001b[0m\u001b[1;33m]\u001b[0m\u001b[1;33m[\u001b[0m\u001b[1;34m'data'\u001b[0m\u001b[1;33m]\u001b[0m\u001b[1;33m.\u001b[0m\u001b[0mitems\u001b[0m\u001b[1;33m(\u001b[0m\u001b[1;33m)\u001b[0m\u001b[1;33m\u001b[0m\u001b[1;33m\u001b[0m\u001b[0m\n\u001b[0m",
      "\u001b[1;31mAttributeError\u001b[0m: 'MatlabObject' object has no attribute 'items'"
     ]
    }
   ],
   "source": [
    "mat['x']['data']"
   ]
  },
  {
   "cell_type": "code",
   "execution_count": null,
   "metadata": {},
   "outputs": [],
   "source": [
    "."
   ]
  }
 ],
 "metadata": {
  "kernelspec": {
   "display_name": "Python 3",
   "language": "python",
   "name": "python3"
  },
  "language_info": {
   "codemirror_mode": {
    "name": "ipython",
    "version": 3
   },
   "file_extension": ".py",
   "mimetype": "text/x-python",
   "name": "python",
   "nbconvert_exporter": "python",
   "pygments_lexer": "ipython3",
   "version": "3.8.5"
  }
 },
 "nbformat": 4,
 "nbformat_minor": 4
}
